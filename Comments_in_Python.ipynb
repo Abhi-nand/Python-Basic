{
  "nbformat": 4,
  "nbformat_minor": 0,
  "metadata": {
    "colab": {
      "provenance": [],
      "authorship_tag": "ABX9TyN8I+Q/JC4dtsWAwRzwcbmt",
      "include_colab_link": true
    },
    "kernelspec": {
      "name": "python3",
      "display_name": "Python 3"
    },
    "language_info": {
      "name": "python"
    }
  },
  "cells": [
    {
      "cell_type": "markdown",
      "metadata": {
        "id": "view-in-github",
        "colab_type": "text"
      },
      "source": [
        "<a href=\"https://colab.research.google.com/github/Abhi-nand/Python-Basic/blob/main/Comments_in_Python.ipynb\" target=\"_parent\"><img src=\"https://colab.research.google.com/assets/colab-badge.svg\" alt=\"Open In Colab\"/></a>"
      ]
    },
    {
      "cell_type": "markdown",
      "source": [
        "Comments can be used to explain the code for more readabilty."
      ],
      "metadata": {
        "id": "wh3I5-HJwwU2"
      }
    },
    {
      "cell_type": "code",
      "source": [
        "# Single line comment\n",
        "val1 = 10"
      ],
      "metadata": {
        "id": "8yan84s2w0WE"
      },
      "execution_count": 1,
      "outputs": []
    },
    {
      "cell_type": "code",
      "source": [
        "# Multiple\n",
        "# line\n",
        "# comment\n",
        "val1 = 10"
      ],
      "metadata": {
        "id": "66IQviI-w7g8"
      },
      "execution_count": 2,
      "outputs": []
    },
    {
      "cell_type": "code",
      "source": [
        "'''\n",
        "Multiple\n",
        "line\n",
        "comment\n",
        "'''\n",
        "val1 = 10"
      ],
      "metadata": {
        "id": "9nQfYlj1w-uE"
      },
      "execution_count": 3,
      "outputs": []
    },
    {
      "cell_type": "code",
      "source": [
        "\"\"\"\n",
        "Multiple\n",
        "line\n",
        "comment\n",
        "\"\"\"\n",
        "val1 = 10"
      ],
      "metadata": {
        "id": "U1YX-eTVxCm0"
      },
      "execution_count": 4,
      "outputs": []
    }
  ]
}