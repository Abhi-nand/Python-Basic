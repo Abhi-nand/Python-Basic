{
  "nbformat": 4,
  "nbformat_minor": 0,
  "metadata": {
    "colab": {
      "provenance": [],
      "authorship_tag": "ABX9TyOBU/eDx4eotWpqUjTCsrDW",
      "include_colab_link": true
    },
    "kernelspec": {
      "name": "python3",
      "display_name": "Python 3"
    },
    "language_info": {
      "name": "python"
    }
  },
  "cells": [
    {
      "cell_type": "markdown",
      "metadata": {
        "id": "view-in-github",
        "colab_type": "text"
      },
      "source": [
        "<a href=\"https://colab.research.google.com/github/Abhi-nand/Python-Basic/blob/main/commonly_used_data_type_in_python.ipynb\" target=\"_parent\"><img src=\"https://colab.research.google.com/assets/colab-badge.svg\" alt=\"Open In Colab\"/></a>"
      ]
    },
    {
      "cell_type": "markdown",
      "source": [
        "#list data type:\n",
        "If we want to represent a group of values as a single entity where insertion order required\n",
        "to preserve and duplicates are allowed then we should go for list data type.\n",
        "1. insertion order is preserved\n",
        "2. heterogeneous objects are allowed\n",
        "3. duplicates are allowed\n",
        "4. Growable in nature\n",
        "5. values should be enclosed within square brackets."
      ],
      "metadata": {
        "id": "6ea-BU_-9hvx"
      }
    },
    {
      "cell_type": "code",
      "source": [
        "lit=[10,10.5,'durga',True,10]\n",
        "print(lit)"
      ],
      "metadata": {
        "colab": {
          "base_uri": "https://localhost:8080/"
        },
        "id": "Nprpkokm9tGQ",
        "outputId": "6f0b002e-dd2f-46e4-d835-0234145fe3e2"
      },
      "execution_count": 44,
      "outputs": [
        {
          "output_type": "stream",
          "name": "stdout",
          "text": [
            "[10, 10.5, 'durga', True, 10]\n"
          ]
        }
      ]
    },
    {
      "cell_type": "code",
      "source": [
        "lit=[10,20,30,40]\n",
        "#list slicing\n",
        "print(lit[0])# 10\n",
        "print(lit[-1])# 40\n",
        "print(lit[1:3])# [20, 30]"
      ],
      "metadata": {
        "colab": {
          "base_uri": "https://localhost:8080/"
        },
        "id": "iUKNij1W91oo",
        "outputId": "b57742c6-9475-4a38-ba90-c7c709b793ac"
      },
      "execution_count": 45,
      "outputs": [
        {
          "output_type": "stream",
          "name": "stdout",
          "text": [
            "10\n",
            "40\n",
            "[20, 30]\n"
          ]
        }
      ]
    },
    {
      "cell_type": "code",
      "source": [
        "#updating value in list\n",
        "lit[0]=100\n",
        "for i in lit:print(i)"
      ],
      "metadata": {
        "colab": {
          "base_uri": "https://localhost:8080/"
        },
        "id": "BOeU5mfw-XSy",
        "outputId": "8d6085e1-b489-43ea-e6b8-bc75860c6b51"
      },
      "execution_count": 46,
      "outputs": [
        {
          "output_type": "stream",
          "name": "stdout",
          "text": [
            "100\n",
            "20\n",
            "30\n",
            "40\n"
          ]
        }
      ]
    },
    {
      "cell_type": "code",
      "source": [
        "# adding and removing element in list\n",
        "lit=[10,20,30]\n",
        "lit.append(\"india\")\n",
        "print(lit)\n",
        "[10, 20, 30, 'india']\n",
        "lit.remove(20)\n",
        "print(lit)\n",
        "[10, 30, 'india']\n",
        "list2=lit*2\n",
        "print(list2)"
      ],
      "metadata": {
        "colab": {
          "base_uri": "https://localhost:8080/"
        },
        "id": "wED7i4qq-p68",
        "outputId": "4e307f23-e2d1-41b7-b448-715c393b5cb5"
      },
      "execution_count": 47,
      "outputs": [
        {
          "output_type": "stream",
          "name": "stdout",
          "text": [
            "[10, 20, 30, 'india']\n",
            "[10, 30, 'india']\n",
            "[10, 30, 'india', 10, 30, 'india']\n"
          ]
        }
      ]
    },
    {
      "cell_type": "markdown",
      "source": [
        "#tuple data type:\n",
        "tuple data type is exactly same as list data type except that it is immutable.i.e we cannot chage values. Tuple elements can be represented within parenthesis.\n"
      ],
      "metadata": {
        "id": "8IXpJPy4_JxZ"
      }
    },
    {
      "cell_type": "code",
      "source": [
        "t=(10,20,30,40)\n",
        "type(t)"
      ],
      "metadata": {
        "colab": {
          "base_uri": "https://localhost:8080/"
        },
        "id": "C-w2XcDh_V-a",
        "outputId": "9037bf80-27b1-411a-9f90-2f0b918fc4ab"
      },
      "execution_count": 37,
      "outputs": [
        {
          "output_type": "execute_result",
          "data": {
            "text/plain": [
              "tuple"
            ]
          },
          "metadata": {},
          "execution_count": 37
        }
      ]
    },
    {
      "cell_type": "code",
      "source": [
        "t[0]=100 #TypeError: 'tuple' object does not support item assignment\n",
        "t.append(\"india\") #AttributeError: 'tuple' object has no attribute 'append'\n",
        "t.remove(10) #AttributeError: 'tuple' object has no attribute 'remove'"
      ],
      "metadata": {
        "id": "csdmWpwx_JDZ"
      },
      "execution_count": null,
      "outputs": []
    },
    {
      "cell_type": "markdown",
      "source": [
        "#range Data Type:\n",
        "range Data Type represents a sequence of numbers.\n",
        "The elements present in range Data type are not modifiable. i.e range Data type is\n",
        "immutable.\n"
      ],
      "metadata": {
        "id": "NL5agw_C_3pM"
      }
    },
    {
      "cell_type": "code",
      "source": [
        "r = range(10,20,2)\n",
        "#first agrument - start value\n",
        "#second argument - stop value\n",
        "#third argument - step count\n",
        "for i in r : print(i)"
      ],
      "metadata": {
        "colab": {
          "base_uri": "https://localhost:8080/"
        },
        "id": "SxvPRQqxAFpt",
        "outputId": "d7290ff3-b871-44fa-b5e7-756455ec8c2a"
      },
      "execution_count": 39,
      "outputs": [
        {
          "output_type": "stream",
          "name": "stdout",
          "text": [
            "10\n",
            "12\n",
            "14\n",
            "16\n",
            "18\n"
          ]
        }
      ]
    },
    {
      "cell_type": "code",
      "source": [
        "#We can access elements present in the range Data Type by using index.\n",
        "#We cannot modify the values of range data type\n",
        "r=range(10,20)\n",
        "r[0]"
      ],
      "metadata": {
        "colab": {
          "base_uri": "https://localhost:8080/"
        },
        "id": "BMjLdrJNAjTO",
        "outputId": "b603efb9-9057-4a39-aa22-e10959907106"
      },
      "execution_count": 40,
      "outputs": [
        {
          "output_type": "execute_result",
          "data": {
            "text/plain": [
              "10"
            ]
          },
          "metadata": {},
          "execution_count": 40
        }
      ]
    },
    {
      "cell_type": "code",
      "source": [
        "#We can create a list of values with range data type\n",
        "l = list(range(10))\n",
        "l"
      ],
      "metadata": {
        "colab": {
          "base_uri": "https://localhost:8080/"
        },
        "id": "Nm5RTBUEAyI2",
        "outputId": "dfa0b862-c148-4813-908e-ffbcab95940f"
      },
      "execution_count": 1,
      "outputs": [
        {
          "output_type": "execute_result",
          "data": {
            "text/plain": [
              "[0, 1, 2, 3, 4, 5, 6, 7, 8, 9]"
            ]
          },
          "metadata": {},
          "execution_count": 1
        }
      ]
    },
    {
      "cell_type": "markdown",
      "source": [
        "#Set Data Type:\n",
        "If we want to represent a group of values without duplicates where order is not important\n",
        "then we should go for set Data Type.\n",
        "\n",
        "1. insertion order is not preserved\n",
        "2. duplicates are not allowed\n",
        "3. heterogeneous objects are allowed\n",
        "4. index concept is not applicable\n",
        "5. It is mutable collection\n",
        "6. Growable in nature\n"
      ],
      "metadata": {
        "id": "3SzrkG6pBuXY"
      }
    },
    {
      "cell_type": "code",
      "source": [
        "s={100,0,10,200,10,'india'}\n",
        "s"
      ],
      "metadata": {
        "colab": {
          "base_uri": "https://localhost:8080/"
        },
        "id": "daOwwvHlCCGq",
        "outputId": "aefbdda9-ee1f-4abc-dea7-51e290e664b8"
      },
      "execution_count": 3,
      "outputs": [
        {
          "output_type": "execute_result",
          "data": {
            "text/plain": [
              "{0, 10, 100, 200, 'india'}"
            ]
          },
          "metadata": {},
          "execution_count": 3
        }
      ]
    },
    {
      "cell_type": "code",
      "source": [
        "s[0] #TypeError: 'set' object does not support indexing"
      ],
      "metadata": {
        "id": "AZn5bsrYCJVP"
      },
      "execution_count": null,
      "outputs": []
    },
    {
      "cell_type": "code",
      "source": [
        "#set is growable in nature, based on our requirement we can increase or decrease the size.\n",
        "s.add(60)\n",
        "print(s)\n",
        "s.remove(100)\n",
        "print(s) "
      ],
      "metadata": {
        "colab": {
          "base_uri": "https://localhost:8080/"
        },
        "id": "ZSqgOJPBCOrm",
        "outputId": "667765aa-c956-4256-930a-f2b5dea15d82"
      },
      "execution_count": 4,
      "outputs": [
        {
          "output_type": "stream",
          "name": "stdout",
          "text": [
            "{0, 100, 'india', 200, 10, 60}\n",
            "{0, 'india', 200, 10, 60}\n"
          ]
        }
      ]
    },
    {
      "cell_type": "markdown",
      "source": [
        "#frozenset Data Type:\n",
        "It is exactly same as set except that it is immutable.\n",
        "Hence we cannot use add or remove functions."
      ],
      "metadata": {
        "id": "BMjMnsbxCiov"
      }
    },
    {
      "cell_type": "code",
      "source": [
        "s={10,20,30,40}\n",
        "fs=frozenset(s)\n",
        "print(fs) \n",
        "type(fs)"
      ],
      "metadata": {
        "colab": {
          "base_uri": "https://localhost:8080/"
        },
        "id": "mPRSQxZVCq1G",
        "outputId": "3cb82b93-f7d2-42d1-defc-a13118daa1a4"
      },
      "execution_count": 7,
      "outputs": [
        {
          "output_type": "stream",
          "name": "stdout",
          "text": [
            "frozenset({40, 10, 20, 30})\n"
          ]
        },
        {
          "output_type": "execute_result",
          "data": {
            "text/plain": [
              "frozenset"
            ]
          },
          "metadata": {},
          "execution_count": 7
        }
      ]
    },
    {
      "cell_type": "code",
      "source": [
        "fs.add(70) #AttributeError: 'frozenset' object has no attribute 'add'\n",
        "fs.remove(10) #AttributeError: 'frozenset' object has no attribute 'remove' "
      ],
      "metadata": {
        "id": "KTOV38n_C7be"
      },
      "execution_count": null,
      "outputs": []
    },
    {
      "cell_type": "markdown",
      "source": [
        "#dict Data Type:\n",
        "If we want to represent a group of values as key-value pairs then we should go for dict\n",
        "data type.\n",
        "\n",
        "Duplicate keys are not allowed but values can be duplicated. If we are trying to insert an\n",
        "entry with duplicate key then old value will be replaced with new value.\n",
        "Dict is mutable and the order wont be preserved."
      ],
      "metadata": {
        "id": "S9iQsn5NDTP6"
      }
    },
    {
      "cell_type": "code",
      "source": [
        "d={101:'vishnu',102:'ravi',103:'shiva'}\n",
        "d[101]='sunny'\n",
        "d "
      ],
      "metadata": {
        "colab": {
          "base_uri": "https://localhost:8080/"
        },
        "id": "YDtNcZD8DWTX",
        "outputId": "b3b769aa-ad5a-4150-e661-2bec45ba9728"
      },
      "execution_count": 9,
      "outputs": [
        {
          "output_type": "execute_result",
          "data": {
            "text/plain": [
              "{101: 'sunny', 102: 'ravi', 103: 'shiva'}"
            ]
          },
          "metadata": {},
          "execution_count": 9
        }
      ]
    },
    {
      "cell_type": "code",
      "source": [
        "#We can create empty dictionary as follows\n",
        "d={ }\n",
        "#We can add key-value pairs as follows\n",
        "d['a']='apple'\n",
        "d['b']='banana'\n",
        "print(d) "
      ],
      "metadata": {
        "colab": {
          "base_uri": "https://localhost:8080/"
        },
        "id": "ildUwk1MDiGu",
        "outputId": "2d8688c5-388c-403b-be18-6e1008ed4769"
      },
      "execution_count": 10,
      "outputs": [
        {
          "output_type": "stream",
          "name": "stdout",
          "text": [
            "{'a': 'apple', 'b': 'banana'}\n"
          ]
        }
      ]
    }
  ]
}