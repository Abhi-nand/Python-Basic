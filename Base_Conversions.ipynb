{
  "nbformat": 4,
  "nbformat_minor": 0,
  "metadata": {
    "colab": {
      "provenance": [],
      "authorship_tag": "ABX9TyPVSWJcE7UieAyU81p1pdfd",
      "include_colab_link": true
    },
    "kernelspec": {
      "name": "python3",
      "display_name": "Python 3"
    },
    "language_info": {
      "name": "python"
    }
  },
  "cells": [
    {
      "cell_type": "markdown",
      "metadata": {
        "id": "view-in-github",
        "colab_type": "text"
      },
      "source": [
        "<a href=\"https://colab.research.google.com/github/Abhi-nand/Python-Basic/blob/main/Base_Conversions.ipynb\" target=\"_parent\"><img src=\"https://colab.research.google.com/assets/colab-badge.svg\" alt=\"Open In Colab\"/></a>"
      ]
    },
    {
      "cell_type": "code",
      "execution_count": 6,
      "metadata": {
        "colab": {
          "base_uri": "https://localhost:8080/"
        },
        "id": "T0P7eohlktP5",
        "outputId": "89894161-c2be-481a-a08b-38d23776374a"
      },
      "outputs": [
        {
          "output_type": "stream",
          "name": "stdout",
          "text": [
            "0b1111\n",
            "0b1001\n",
            "0b10000\n"
          ]
        }
      ],
      "source": [
        "# We can use bin() to convert from any base to binary\n",
        "print(bin(15))\n",
        "print(bin(0o11))\n",
        "print(bin(0X10))"
      ]
    },
    {
      "cell_type": "code",
      "source": [
        "#We can use oct() to convert from any base to octal\n",
        "print(oct(10))\n",
        "print(oct(0B1111))\n",
        "print(oct(0X123))"
      ],
      "metadata": {
        "colab": {
          "base_uri": "https://localhost:8080/"
        },
        "id": "zpyTqT6Zn5sx",
        "outputId": "79e74c96-a1f1-4ff2-da5d-4cf49aa11101"
      },
      "execution_count": 7,
      "outputs": [
        {
          "output_type": "stream",
          "name": "stdout",
          "text": [
            "0o12\n",
            "0o17\n",
            "0o443\n"
          ]
        }
      ]
    },
    {
      "cell_type": "code",
      "source": [
        "#We can use hex() to convert from any base to hexa decimal\n",
        "print(hex(100))\n",
        "print(hex(0B111111))\n",
        "print(hex(0o12345))"
      ],
      "metadata": {
        "colab": {
          "base_uri": "https://localhost:8080/"
        },
        "id": "PRsdiLIHoixK",
        "outputId": "d9684c77-a9c8-4a88-bd36-a2b29a9a16ad"
      },
      "execution_count": 8,
      "outputs": [
        {
          "output_type": "stream",
          "name": "stdout",
          "text": [
            "0x64\n",
            "0x3f\n",
            "0x14e5\n"
          ]
        }
      ]
    }
  ]
}