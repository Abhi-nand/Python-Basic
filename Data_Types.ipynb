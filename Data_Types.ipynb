{
  "nbformat": 4,
  "nbformat_minor": 0,
  "metadata": {
    "colab": {
      "provenance": [],
      "authorship_tag": "ABX9TyO2vodTqCQ0gOgoNC1B7PiS",
      "include_colab_link": true
    },
    "kernelspec": {
      "name": "python3",
      "display_name": "Python 3"
    },
    "language_info": {
      "name": "python"
    }
  },
  "cells": [
    {
      "cell_type": "markdown",
      "metadata": {
        "id": "view-in-github",
        "colab_type": "text"
      },
      "source": [
        "<a href=\"https://colab.research.google.com/github/Abhi-nand/Python-Basic/blob/main/Data_Types.ipynb\" target=\"_parent\"><img src=\"https://colab.research.google.com/assets/colab-badge.svg\" alt=\"Open In Colab\"/></a>"
      ]
    },
    {
      "cell_type": "code",
      "source": [
        "#int data type\n",
        "a=10\n",
        "type(a)"
      ],
      "metadata": {
        "colab": {
          "base_uri": "https://localhost:8080/"
        },
        "id": "-3J9wxGUrLjH",
        "outputId": "5c772d61-a70f-480a-9a1b-c0dafd2a0159"
      },
      "execution_count": 9,
      "outputs": [
        {
          "output_type": "execute_result",
          "data": {
            "text/plain": [
              "int"
            ]
          },
          "metadata": {},
          "execution_count": 9
        }
      ]
    },
    {
      "cell_type": "code",
      "source": [
        "#float data type\n",
        "f=1.234\n",
        "type(f)"
      ],
      "metadata": {
        "colab": {
          "base_uri": "https://localhost:8080/"
        },
        "id": "z5XDsoJTrd8g",
        "outputId": "8721876d-2e02-45ec-f8cb-a4b992807f11"
      },
      "execution_count": 10,
      "outputs": [
        {
          "output_type": "execute_result",
          "data": {
            "text/plain": [
              "float"
            ]
          },
          "metadata": {},
          "execution_count": 10
        }
      ]
    },
    {
      "cell_type": "code",
      "source": [
        "f=1.2e3\n",
        "print(f)\n",
        "type(f)"
      ],
      "metadata": {
        "colab": {
          "base_uri": "https://localhost:8080/"
        },
        "id": "zQHjBXI5rvFI",
        "outputId": "f3f00a96-5185-4b65-cb09-6eaaa7d3769f"
      },
      "execution_count": 12,
      "outputs": [
        {
          "output_type": "stream",
          "name": "stdout",
          "text": [
            "1200.0\n"
          ]
        },
        {
          "output_type": "execute_result",
          "data": {
            "text/plain": [
              "float"
            ]
          },
          "metadata": {},
          "execution_count": 12
        }
      ]
    },
    {
      "cell_type": "markdown",
      "source": [
        "We can represent int values in decimal, binary, octal and hexa decimal forms. But we can\n",
        "represent float values only by using decimal form"
      ],
      "metadata": {
        "id": "GwKCbAyJsGhJ"
      }
    },
    {
      "cell_type": "code",
      "source": [
        "#Complex Data Type\n",
        "a=0B11+5j\n",
        "print(a)\n",
        "print(3+5j)\n"
      ],
      "metadata": {
        "colab": {
          "base_uri": "https://localhost:8080/"
        },
        "id": "05e2iSp6r9Cw",
        "outputId": "833b1b02-925d-4e1e-dc1e-3c4347f5f282"
      },
      "execution_count": 14,
      "outputs": [
        {
          "output_type": "stream",
          "name": "stdout",
          "text": [
            "(3+5j)\n",
            "(3+5j)\n"
          ]
        }
      ]
    },
    {
      "cell_type": "code",
      "source": [
        "a=3+0B11j # SyntaxError: invalid syntax "
      ],
      "metadata": {
        "colab": {
          "base_uri": "https://localhost:8080/",
          "height": 130
        },
        "id": "6Deg8gsqsisF",
        "outputId": "f3dd3055-9c86-462d-dc4e-0ad95eb91708"
      },
      "execution_count": 13,
      "outputs": [
        {
          "output_type": "error",
          "ename": "SyntaxError",
          "evalue": "ignored",
          "traceback": [
            "\u001b[0;36m  File \u001b[0;32m\"<ipython-input-13-4d12b000493e>\"\u001b[0;36m, line \u001b[0;32m1\u001b[0m\n\u001b[0;31m    a=3+0B11j # SyntaxError: invalid syntax\u001b[0m\n\u001b[0m            ^\u001b[0m\n\u001b[0;31mSyntaxError\u001b[0m\u001b[0;31m:\u001b[0m invalid syntax\n"
          ]
        }
      ]
    },
    {
      "cell_type": "code",
      "source": [
        "#Even we can perform operations on complex type values.\n",
        "a=10+1.5j\n",
        "b=20+2.5j\n",
        "c=a+b\n",
        "print(c)\n",
        "type(c)"
      ],
      "metadata": {
        "colab": {
          "base_uri": "https://localhost:8080/"
        },
        "id": "QvY__zhqstev",
        "outputId": "780f475d-3ed8-49c2-9b09-9b31ec4c8296"
      },
      "execution_count": 16,
      "outputs": [
        {
          "output_type": "stream",
          "name": "stdout",
          "text": [
            "(30+4j)\n"
          ]
        },
        {
          "output_type": "execute_result",
          "data": {
            "text/plain": [
              "complex"
            ]
          },
          "metadata": {},
          "execution_count": 16
        }
      ]
    },
    {
      "cell_type": "code",
      "source": [
        "#Complex data type has some inbuilt attributes to retrieve the real part and imaginary part\n",
        "c=10.5+3.6j\n",
        "print(c.real)  #10.5\n",
        "print(c.imag)  #3.6"
      ],
      "metadata": {
        "colab": {
          "base_uri": "https://localhost:8080/"
        },
        "id": "CMOIkFbrt3J-",
        "outputId": "d5570678-e58d-498e-fe27-99330ef1a291"
      },
      "execution_count": 18,
      "outputs": [
        {
          "output_type": "stream",
          "name": "stdout",
          "text": [
            "10.5\n",
            "3.6\n"
          ]
        }
      ]
    },
    {
      "cell_type": "code",
      "source": [
        "#bool data type\n",
        "#The only allowed values for this data type are True and False\n",
        "b=True\n",
        "type(b) "
      ],
      "metadata": {
        "colab": {
          "base_uri": "https://localhost:8080/"
        },
        "id": "lnmjnlf1uPtx",
        "outputId": "edbc4b21-2904-4e1a-98e3-96207604cde7"
      },
      "execution_count": 20,
      "outputs": [
        {
          "output_type": "execute_result",
          "data": {
            "text/plain": [
              "bool"
            ]
          },
          "metadata": {},
          "execution_count": 20
        }
      ]
    },
    {
      "cell_type": "code",
      "source": [
        "a=10\n",
        "b=20\n",
        "c=a<b\n",
        "print(c)"
      ],
      "metadata": {
        "id": "QEtnItKfuk0E",
        "outputId": "52252a99-733e-4ee5-8855-e0234058d0d0",
        "colab": {
          "base_uri": "https://localhost:8080/"
        }
      },
      "execution_count": 21,
      "outputs": [
        {
          "output_type": "stream",
          "name": "stdout",
          "text": [
            "True\n"
          ]
        }
      ]
    },
    {
      "cell_type": "code",
      "source": [
        "print(True+True)\n",
        "print(True-False)"
      ],
      "metadata": {
        "id": "tMgaML2ZuqVG",
        "outputId": "d7e3ee51-c8bf-487e-a993-42f0726e0b54",
        "colab": {
          "base_uri": "https://localhost:8080/"
        }
      },
      "execution_count": 22,
      "outputs": [
        {
          "output_type": "stream",
          "name": "stdout",
          "text": [
            "2\n",
            "1\n"
          ]
        }
      ]
    },
    {
      "cell_type": "code",
      "source": [
        "#str type:\n",
        "#str represents String data type.\n",
        "#A String is a sequence of characters enclosed within single quotes or double quotes\n",
        "s1='India'\n",
        "s1"
      ],
      "metadata": {
        "id": "u5-X0PzPu2q-",
        "outputId": "5ce9edee-dc7b-4db9-edf8-826160cd1eb2",
        "colab": {
          "base_uri": "https://localhost:8080/",
          "height": 35
        }
      },
      "execution_count": 24,
      "outputs": [
        {
          "output_type": "execute_result",
          "data": {
            "text/plain": [
              "'India'"
            ],
            "application/vnd.google.colaboratory.intrinsic+json": {
              "type": "string"
            }
          },
          "metadata": {},
          "execution_count": 24
        }
      ]
    },
    {
      "cell_type": "code",
      "source": [
        "#We can also use triple quotes (multi line) to use single quote or double quote in our String.\n",
        "print('''This \"Python class very helpful\" for java students''')\n"
      ],
      "metadata": {
        "id": "gKmiwIuDvnjd",
        "outputId": "297a158d-f543-4688-b4ba-9700ff493c37",
        "colab": {
          "base_uri": "https://localhost:8080/"
        }
      },
      "execution_count": 28,
      "outputs": [
        {
          "output_type": "stream",
          "name": "stdout",
          "text": [
            "This \"Python class very helpful\" for java students\n"
          ]
        }
      ]
    }
  ]
}