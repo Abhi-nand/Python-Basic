{
  "nbformat": 4,
  "nbformat_minor": 0,
  "metadata": {
    "colab": {
      "provenance": [],
      "authorship_tag": "ABX9TyOOOUpthwPFAsK5jEX7WY1h",
      "include_colab_link": true
    },
    "kernelspec": {
      "name": "python3",
      "display_name": "Python 3"
    },
    "language_info": {
      "name": "python"
    }
  },
  "cells": [
    {
      "cell_type": "markdown",
      "metadata": {
        "id": "view-in-github",
        "colab_type": "text"
      },
      "source": [
        "<a href=\"https://colab.research.google.com/github/Abhi-nand/Python-Basic/blob/main/Slicing_of_Strings.ipynb\" target=\"_parent\"><img src=\"https://colab.research.google.com/assets/colab-badge.svg\" alt=\"Open In Colab\"/></a>"
      ]
    },
    {
      "cell_type": "markdown",
      "source": [
        "slice means a piece\n",
        "\n",
        "[ ] operator is called slice operator,which can be used to retrieve parts of String.\n",
        "\n",
        "In Python Strings follows zero based index.\n",
        "\n",
        "The index can be either +ve or -ve.\n",
        "\n",
        "+ve index means forward direction from Left to Right\n",
        "\n",
        "-ve index means backward direction from Right to Left"
      ],
      "metadata": {
        "id": "67aKLfvOxqJN"
      }
    },
    {
      "cell_type": "code",
      "source": [
        "s=\"india\"\n",
        "print(s[0])\n",
        "print(s[1])\n",
        "print(s[-1])\n"
      ],
      "metadata": {
        "colab": {
          "base_uri": "https://localhost:8080/"
        },
        "id": "W76s34E5xkGl",
        "outputId": "67c72a3c-2f9a-4a02-f818-e13107bce0c4"
      },
      "execution_count": 6,
      "outputs": [
        {
          "output_type": "stream",
          "name": "stdout",
          "text": [
            "i\n",
            "n\n",
            "a\n"
          ]
        }
      ]
    },
    {
      "cell_type": "code",
      "source": [
        "s[40] #IndexError: string index out of range"
      ],
      "metadata": {
        "colab": {
          "base_uri": "https://localhost:8080/",
          "height": 165
        },
        "id": "S2W3E_ZoyCPj",
        "outputId": "1ac0a9b2-a665-4622-e409-0c3e23e73db3"
      },
      "execution_count": 7,
      "outputs": [
        {
          "output_type": "error",
          "ename": "IndexError",
          "evalue": "ignored",
          "traceback": [
            "\u001b[0;31m---------------------------------------------------------------------------\u001b[0m",
            "\u001b[0;31mIndexError\u001b[0m                                Traceback (most recent call last)",
            "\u001b[0;32m<ipython-input-7-96d49718cac9>\u001b[0m in \u001b[0;36m<module>\u001b[0;34m\u001b[0m\n\u001b[0;32m----> 1\u001b[0;31m \u001b[0ms\u001b[0m\u001b[0;34m[\u001b[0m\u001b[0;36m40\u001b[0m\u001b[0;34m]\u001b[0m \u001b[0;31m#IndexError: string index out of range\u001b[0m\u001b[0;34m\u001b[0m\u001b[0;34m\u001b[0m\u001b[0m\n\u001b[0m",
            "\u001b[0;31mIndexError\u001b[0m: string index out of range"
          ]
        }
      ]
    },
    {
      "cell_type": "code",
      "source": [
        "print(s[1:40])\n",
        "print(s[1:])\n",
        "print(s[:4])\n",
        "print(s[:])\n",
        "print(s*3)\n",
        "print(len(s))"
      ],
      "metadata": {
        "colab": {
          "base_uri": "https://localhost:8080/"
        },
        "id": "deUj6LwcyWOn",
        "outputId": "57542402-5d22-42f0-82db-9a567b9960b3"
      },
      "execution_count": 8,
      "outputs": [
        {
          "output_type": "stream",
          "name": "stdout",
          "text": [
            "ndia\n",
            "ndia\n",
            "indi\n",
            "india\n",
            "indiaindiaindia\n"
          ]
        },
        {
          "output_type": "execute_result",
          "data": {
            "text/plain": [
              "5"
            ]
          },
          "metadata": {},
          "execution_count": 8
        }
      ]
    }
  ]
}