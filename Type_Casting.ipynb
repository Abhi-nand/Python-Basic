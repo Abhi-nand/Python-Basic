{
  "nbformat": 4,
  "nbformat_minor": 0,
  "metadata": {
    "colab": {
      "provenance": [],
      "authorship_tag": "ABX9TyOgqzgaWOJbO/OsB+pTTJiJ",
      "include_colab_link": true
    },
    "kernelspec": {
      "name": "python3",
      "display_name": "Python 3"
    },
    "language_info": {
      "name": "python"
    }
  },
  "cells": [
    {
      "cell_type": "markdown",
      "metadata": {
        "id": "view-in-github",
        "colab_type": "text"
      },
      "source": [
        "<a href=\"https://colab.research.google.com/github/Abhi-nand/Python-Basic/blob/main/Type_Casting.ipynb\" target=\"_parent\"><img src=\"https://colab.research.google.com/assets/colab-badge.svg\" alt=\"Open In Colab\"/></a>"
      ]
    },
    {
      "cell_type": "markdown",
      "source": [
        "***We can convert one type value to another type. This conversion is called Typecasting. The following are various inbuilt functions for type casting.***\n",
        "1. int()\n",
        "2. float()\n",
        "3. complex()\n",
        "4. bool()\n",
        "5. str()"
      ],
      "metadata": {
        "id": "DCSNVaInzQzS"
      }
    },
    {
      "cell_type": "markdown",
      "source": [
        "#1.int():\n",
        "#We can use this function to convert values from other types to int"
      ],
      "metadata": {
        "id": "SW_aiygL08I0"
      }
    },
    {
      "cell_type": "code",
      "source": [
        "print(int(123.987))\n",
        "print(int(True))\n",
        "print(int(False))\n",
        "print(int(\"10\"))"
      ],
      "metadata": {
        "colab": {
          "base_uri": "https://localhost:8080/"
        },
        "id": "g8EBI0xtzywF",
        "outputId": "4e15f365-d171-489d-f6c3-52ec0f8d539e"
      },
      "execution_count": 12,
      "outputs": [
        {
          "output_type": "stream",
          "name": "stdout",
          "text": [
            "123\n",
            "1\n",
            "0\n",
            "10\n"
          ]
        }
      ]
    },
    {
      "cell_type": "code",
      "source": [
        "print(int(10+5j))  #TypeError: can't convert complex to int\n",
        "print(int(\"10.5\"))    # ValueError: invalid literal for int() with base 10: '10.5'\n",
        "print(int(\"ten\"))    #  ValueError: invalid literal for int() with base 10: 'ten'\n",
        "print(int(\"0B1111\"))  # ValueError: invalid literal for int() with base 10: '0B1111' "
      ],
      "metadata": {
        "id": "lf8uyAX20ov7"
      },
      "execution_count": null,
      "outputs": []
    },
    {
      "cell_type": "markdown",
      "source": [
        "1. We can convert from any type to int except complex type.\n",
        "2. If we want to convert str type to int type, compulsary str should contain only integral value and should be specified in base-10"
      ],
      "metadata": {
        "id": "_njEFDbP1Jgc"
      }
    },
    {
      "cell_type": "markdown",
      "source": [
        "#2. float():\n",
        "#We can use float() function to convert other type values to float type."
      ],
      "metadata": {
        "id": "UCuScw2o1Vg1"
      }
    },
    {
      "cell_type": "code",
      "source": [
        "print(float(10))\n",
        "print(float(True))\n",
        "print(float(False))\n",
        "print(float(\"10\"))\n",
        "print(float(\"10.5\"))"
      ],
      "metadata": {
        "colab": {
          "base_uri": "https://localhost:8080/"
        },
        "id": "xGRJ7K_S1Uh2",
        "outputId": "a10cd18f-f7af-4fe6-fc37-b3ab30812e5b"
      },
      "execution_count": 14,
      "outputs": [
        {
          "output_type": "stream",
          "name": "stdout",
          "text": [
            "10.0\n",
            "1.0\n",
            "0.0\n",
            "10.0\n",
            "10.5\n"
          ]
        }
      ]
    },
    {
      "cell_type": "code",
      "source": [
        "float(10+5j)  # TypeError: can't convert complex to float\n",
        "float(\"ten\")  # ValueError: could not convert string to float: 'ten'\n",
        "float(\"0B1111\") # ValueError: could not convert string to float: '0B1111' "
      ],
      "metadata": {
        "id": "Lpj7rTUR1dPl"
      },
      "execution_count": null,
      "outputs": []
    },
    {
      "cell_type": "markdown",
      "source": [
        "1. We can convert any type value to float type except complex type.\n",
        "2. Whenever we are trying to convert str type to float type compulsary str should be either integral or floating point literal and should be specified only in base-10. "
      ],
      "metadata": {
        "id": "or-5Q8K32BVN"
      }
    },
    {
      "cell_type": "markdown",
      "source": [
        "#3.complex():\n",
        "#We can use complex() function to convert other types to complex type.\n"
      ],
      "metadata": {
        "id": "K0I58hjg2W_I"
      }
    },
    {
      "cell_type": "code",
      "source": [
        "print(complex(10,-2))\n",
        "print(complex(True,False))\n",
        "print(complex(10))\n",
        "print(complex(10.5))\n",
        "print(complex(10.5))\n",
        "print(complex(False))\n",
        "print(complex(\"10\"))\n",
        "print(complex(\"10.5\"))"
      ],
      "metadata": {
        "colab": {
          "base_uri": "https://localhost:8080/"
        },
        "id": "2Lw9Uxgs2ebu",
        "outputId": "c85aa825-ff8a-47a4-9338-4d83abdbcbcb"
      },
      "execution_count": 16,
      "outputs": [
        {
          "output_type": "stream",
          "name": "stdout",
          "text": [
            "(10-2j)\n",
            "(1+0j)\n",
            "(10+0j)\n",
            "(10.5+0j)\n",
            "(10.5+0j)\n",
            "0j\n",
            "(10+0j)\n",
            "(10.5+0j)\n"
          ]
        }
      ]
    },
    {
      "cell_type": "code",
      "source": [
        "complex(\"ten\") # ValueError: complex() arg is a malformed string"
      ],
      "metadata": {
        "id": "DkkaQarN3JW2"
      },
      "execution_count": null,
      "outputs": []
    },
    {
      "cell_type": "markdown",
      "source": [
        "#4. bool():\n",
        "#We can use this function to convert other type values to bool type.\n"
      ],
      "metadata": {
        "id": "x512YrF-3Uyt"
      }
    },
    {
      "cell_type": "code",
      "source": [
        "print(bool(0),\n",
        "'\\n', bool(1),\n",
        "'\\n', bool(10),\n",
        "'\\n', bool(10.5),\n",
        "'\\n', bool(0.178),\n",
        "'\\n', bool(0.0),\n",
        "'\\n', bool(10-2j),\n",
        "'\\n', bool(0+1.5j),\n",
        "'\\n', bool(0+0j),\n",
        "'\\n', bool(\"True\"),\n",
        "'\\n', bool(\"False\"),\n",
        "'\\n', bool(\"\"))"
      ],
      "metadata": {
        "colab": {
          "base_uri": "https://localhost:8080/"
        },
        "id": "DQGGJOlc3T7Q",
        "outputId": "995e7315-ad4d-4b13-a425-fdd7a7444728"
      },
      "execution_count": 17,
      "outputs": [
        {
          "output_type": "stream",
          "name": "stdout",
          "text": [
            "False \n",
            " True \n",
            " True \n",
            " True \n",
            " True \n",
            " False \n",
            " True \n",
            " True \n",
            " False \n",
            " True \n",
            " True \n",
            " False\n"
          ]
        }
      ]
    },
    {
      "cell_type": "markdown",
      "source": [
        "#5. str():\n",
        "#We can use this method to convert other type values to str type"
      ],
      "metadata": {
        "id": "2YrfEzjF5Lf8"
      }
    },
    {
      "cell_type": "code",
      "source": [
        "print(str(10),'\\n',\n",
        "str(10.5),'\\n',\n",
        "str(10+5j),'\\n',\n",
        "str(True))"
      ],
      "metadata": {
        "colab": {
          "base_uri": "https://localhost:8080/"
        },
        "id": "IiCgAqrg5SWu",
        "outputId": "5f0aa30e-dcce-4e29-debf-05803788f900"
      },
      "execution_count": 21,
      "outputs": [
        {
          "output_type": "stream",
          "name": "stdout",
          "text": [
            "10 \n",
            " 10.5 \n",
            " (10+5j) \n",
            " True\n"
          ]
        }
      ]
    },
    {
      "cell_type": "markdown",
      "source": [
        "#6.bytes Data Type:\n",
        "bytes data type represens a group of byte numbers just like an array."
      ],
      "metadata": {
        "id": "dp9PqUmb6atR"
      }
    },
    {
      "cell_type": "code",
      "source": [
        "x = [10,20,30,40]\n",
        "b = bytes(x)\n",
        "print(type(b))\n",
        "print(b[0])\n",
        "print(b[-1]) "
      ],
      "metadata": {
        "colab": {
          "base_uri": "https://localhost:8080/"
        },
        "id": "ZCGXICnf6kG4",
        "outputId": "ba91ac53-8147-490d-abce-e631bec5727b"
      },
      "execution_count": 26,
      "outputs": [
        {
          "output_type": "stream",
          "name": "stdout",
          "text": [
            "<class 'bytes'>\n",
            "10\n",
            "40\n"
          ]
        }
      ]
    },
    {
      "cell_type": "markdown",
      "source": [
        "Conclusion 1:The only allowed values for byte data type are 0 to 256. By mistake if we are trying to provide any other values then we will get value error.\n",
        "\n",
        "Conclusion 2: Once we creates bytes data type value, we cannot change its values,otherwise we will get TypeError"
      ],
      "metadata": {
        "id": "Lstp5-4R7GnY"
      }
    },
    {
      "cell_type": "code",
      "source": [
        "x=[10,20,30,40]\n",
        "b=bytes(x)\n",
        "b[0]=100 #TypeError: 'bytes' object does not support item assignment "
      ],
      "metadata": {
        "colab": {
          "base_uri": "https://localhost:8080/",
          "height": 200
        },
        "id": "bP3S0UFa7SJ4",
        "outputId": "e3ca7968-0bd9-49e3-bb8b-5d3c7090e908"
      },
      "execution_count": 27,
      "outputs": [
        {
          "output_type": "error",
          "ename": "TypeError",
          "evalue": "ignored",
          "traceback": [
            "\u001b[0;31m---------------------------------------------------------------------------\u001b[0m",
            "\u001b[0;31mTypeError\u001b[0m                                 Traceback (most recent call last)",
            "\u001b[0;32m<ipython-input-27-b9f494305a66>\u001b[0m in \u001b[0;36m<module>\u001b[0;34m\u001b[0m\n\u001b[1;32m      1\u001b[0m \u001b[0mx\u001b[0m\u001b[0;34m=\u001b[0m\u001b[0;34m[\u001b[0m\u001b[0;36m10\u001b[0m\u001b[0;34m,\u001b[0m\u001b[0;36m20\u001b[0m\u001b[0;34m,\u001b[0m\u001b[0;36m30\u001b[0m\u001b[0;34m,\u001b[0m\u001b[0;36m40\u001b[0m\u001b[0;34m]\u001b[0m\u001b[0;34m\u001b[0m\u001b[0;34m\u001b[0m\u001b[0m\n\u001b[1;32m      2\u001b[0m \u001b[0mb\u001b[0m\u001b[0;34m=\u001b[0m\u001b[0mbytes\u001b[0m\u001b[0;34m(\u001b[0m\u001b[0mx\u001b[0m\u001b[0;34m)\u001b[0m\u001b[0;34m\u001b[0m\u001b[0;34m\u001b[0m\u001b[0m\n\u001b[0;32m----> 3\u001b[0;31m \u001b[0mb\u001b[0m\u001b[0;34m[\u001b[0m\u001b[0;36m0\u001b[0m\u001b[0;34m]\u001b[0m\u001b[0;34m=\u001b[0m\u001b[0;36m100\u001b[0m \u001b[0;31m#TypeError: 'bytes' object does not support item assignment\u001b[0m\u001b[0;34m\u001b[0m\u001b[0;34m\u001b[0m\u001b[0m\n\u001b[0m",
            "\u001b[0;31mTypeError\u001b[0m: 'bytes' object does not support item assignment"
          ]
        }
      ]
    },
    {
      "cell_type": "markdown",
      "source": [
        "#7.bytearray Data type:\n",
        "#Bytearray is exactly same as bytes data type except that its elements can be modified."
      ],
      "metadata": {
        "id": "taETLCrZ7f74"
      }
    },
    {
      "cell_type": "code",
      "source": [
        "x=[10,20,30,40]\n",
        "b = bytearray(x)\n",
        "for i in b : print(i) "
      ],
      "metadata": {
        "colab": {
          "base_uri": "https://localhost:8080/"
        },
        "id": "Qf-oqttK7sRI",
        "outputId": "b810b63b-7fe4-47a7-89ed-385117c51a0b"
      },
      "execution_count": 28,
      "outputs": [
        {
          "output_type": "stream",
          "name": "stdout",
          "text": [
            "10\n",
            "20\n",
            "30\n",
            "40\n"
          ]
        }
      ]
    },
    {
      "cell_type": "code",
      "source": [
        "b[0]=100\n",
        "for i in b: print(i) "
      ],
      "metadata": {
        "colab": {
          "base_uri": "https://localhost:8080/"
        },
        "id": "F-ZZ38lv7xeP",
        "outputId": "ca32fbb7-02f6-4b71-dc54-b4ac419de1a7"
      },
      "execution_count": 30,
      "outputs": [
        {
          "output_type": "stream",
          "name": "stdout",
          "text": [
            "100\n",
            "20\n",
            "30\n",
            "40\n"
          ]
        }
      ]
    },
    {
      "cell_type": "code",
      "source": [],
      "metadata": {
        "id": "BX6l-tQD7eNH"
      },
      "execution_count": null,
      "outputs": []
    }
  ]
}